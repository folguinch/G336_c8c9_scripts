{
 "cells": [
  {
   "cell_type": "markdown",
   "id": "9cc9d232-59a5-4230-9216-3ad7f302119f",
   "metadata": {},
   "source": [
    "# Paper calculations"
   ]
  },
  {
   "cell_type": "code",
   "execution_count": 1,
   "id": "4d9a711e-b6d9-4d15-ad08-9b3fdb612d3e",
   "metadata": {},
   "outputs": [],
   "source": [
    "import numpy as np\n",
    "import astropy.units as u\n",
    "import astropy.constants as ct\n",
    "from astropy.modeling.models import BlackBody"
   ]
  },
  {
   "cell_type": "markdown",
   "id": "0f13e1b7-ed35-4ed7-9615-f15e22fa4e0b",
   "metadata": {},
   "source": [
    "# Infalling times\n",
    "\n",
    "Free fall time of central region:"
   ]
  },
  {
   "cell_type": "code",
   "execution_count": 2,
   "id": "440fe477-8f1f-4655-9988-4e10161dd870",
   "metadata": {},
   "outputs": [
    {
     "name": "stdout",
     "output_type": "stream",
     "text": [
      "Central dust mass:  0.23819104430758484 solMass\n",
      "Central total mass:  10.238191044307586 solMass\n",
      "Free fall time: 25.998881260017974 yr\n"
     ]
    }
   ],
   "source": [
    "# ALMA1 measurements and source and observational parameters\n",
    "d = 3.1 * u.kpc\n",
    "Fcenter = 7.7 * u.mJy\n",
    "rcenter = 121 / 2 * u.au\n",
    "Tcenter = 100 * u.K\n",
    "nu = 226.15 * u.GHz\n",
    "kappa = 1.0 * u.cm**2/u.g\n",
    "Rdg = 0.01\n",
    "Mstar = 10 * u.M_sun\n",
    "\n",
    "# Mass: central dust mass + source mass\n",
    "bb = BlackBody(temperature=Tcenter)\n",
    "Bnu = bb(nu).to(u.W/u.m**2/u.Hz, u.dimensionless_angles())\n",
    "Mcenter = Fcenter * d**2 / (Rdg * kappa * Bnu)\n",
    "Mcenter = Mcenter.to(u.M_sun)\n",
    "Mtotal = Mcenter + Mstar\n",
    "print('Central dust mass: ', Mcenter)\n",
    "print('Central total mass: ', Mtotal)\n",
    "\n",
    "# Free fall time\n",
    "rho = Mtotal / (4/3 * np.pi * rcenter**3)\n",
    "tff = np.sqrt(3 * np.pi / (32 * ct.G * rho))\n",
    "\n",
    "# For disk https://wwwmpa.mpa-garching.mpg.de/~henk/pub/disksn.pdf\n",
    "#tdyn = np.sqrt(r**3 / (ct.G * (mass + Mc)))\n",
    "\n",
    "print('Free fall time:', tff.to(u.yr))\n",
    "#print('Free fall time (disk):', tdyn.to(u.yr))"
   ]
  },
  {
   "cell_type": "markdown",
   "id": "eb133c18-12cc-440e-b3e8-8dca0b9715d1",
   "metadata": {},
   "source": [
    "Viscous accretion"
   ]
  },
  {
   "cell_type": "code",
   "execution_count": 3,
   "id": "b0142dcf-f4f4-47c3-8b87-57f5c4909b82",
   "metadata": {},
   "outputs": [
    {
     "name": "stdout",
     "output_type": "stream",
     "text": [
      "Viscous accretion times at central source radius: [32695.22386785  3269.52238678] yr for alpha  [0.1 1. ]\n",
      "Viscous accretion times at centrifugal radius: [93992.16002864  9399.21600286] yr for alpha  [0.1 1. ]\n"
     ]
    }
   ],
   "source": [
    "# Alpha disk parameters\n",
    "alpha = np.array([0.1, 1])\n",
    "vrot = np.sqrt(ct.G * Mstar / rcenter)\n",
    "mu = 2.33\n",
    "mH = 1.00784 * u.u\n",
    "omega = vrot / rcenter\n",
    "cs = np.sqrt(ct.k_B * Tcenter / (mu * mH))\n",
    "\n",
    "tvis = rcenter**2 * omega / (3 * cs**2 * alpha)\n",
    "print('Viscous accretion times at central source radius:', tvis.to(u.yr), 'for alpha ', alpha)\n",
    "\n",
    "# For centrifugal radius\n",
    "rcentrifugal = 500 * u.au\n",
    "vrot_centrifugal = np.sqrt(ct.G * Mstar / rcentrifugal)\n",
    "omega_centrifugal = vrot_centrifugal / rcentrifugal\n",
    "tvis_centrifugal = rcentrifugal**2 * omega_centrifugal / (3 * cs**2 * alpha)\n",
    "print('Viscous accretion times at centrifugal radius:', tvis_centrifugal.to(u.yr), 'for alpha ', alpha)"
   ]
  },
  {
   "cell_type": "markdown",
   "id": "c09e847c-b9b4-4772-bc92-ac7bb4ab45cf",
   "metadata": {},
   "source": [
    "Streamer masses:"
   ]
  },
  {
   "cell_type": "code",
   "execution_count": 4,
   "id": "34871523-b2d4-471f-8453-b9f44aaf7bf8",
   "metadata": {},
   "outputs": [
    {
     "name": "stdout",
     "output_type": "stream",
     "text": [
      "Temperatures:  [100. 300. 500.] K\n",
      "Blue streamer mass:  [0.64033177 0.20577012 0.12256769] solMass\n",
      "Red streamer mass:  [0.34336631 0.1103405  0.0657247 ] solMass\n"
     ]
    }
   ],
   "source": [
    "# For both streamers\n",
    "Tstream = np.array([100, 300, 500]) * u.K\n",
    "bb = BlackBody(temperature=Tstream)\n",
    "Bnu = bb(nu).to(u.W/u.m**2/u.Hz, u.dimensionless_angles())\n",
    "\n",
    "# Blue streamer\n",
    "Fblue = 20.7 * u.mJy\n",
    "mass_blue = Fblue * d**2 / (Rdg * kappa * Bnu)\n",
    "mass_blue = mass_blue.to(u.M_sun)\n",
    "\n",
    "# Red streamer\n",
    "Fred = 11.1 * u.mJy\n",
    "mass_red = Fred * d**2 / (Rdg * kappa * Bnu)\n",
    "mass_red = mass_red.to(u.M_sun)\n",
    "\n",
    "print('Temperatures: ', Tstream)\n",
    "print('Blue streamer mass: ', mass_blue)\n",
    "print('Red streamer mass: ', mass_red)"
   ]
  },
  {
   "cell_type": "markdown",
   "id": "e28ff2fb-8c0a-42e5-aec7-b22d6828c1d3",
   "metadata": {},
   "source": [
    "Streamer times:"
   ]
  },
  {
   "cell_type": "code",
   "execution_count": 5,
   "id": "664f6395-7752-4ab3-bd1a-fec639257485",
   "metadata": {},
   "outputs": [
    {
     "name": "stdout",
     "output_type": "stream",
     "text": [
      "Free fall velocity:  5.956938365935386 km / s\n",
      "Infall rate blue streamer:  [0.0016093  0.00051715 0.00030804] solMass / yr\n",
      "Infall rate red streamer:  [0.00086296 0.00027731 0.00016518] solMass / yr\n",
      "Infall rate for viscous accretion blue streamer (T=100K):  [6.81260829e-06 6.81260829e-05] solMass / yr for alpha  [0.1 1. ]\n",
      "Infall rate for viscous accretion red streamer (T=100K):  [3.65313778e-06 3.65313778e-05] solMass / yr for alpha  [0.1 1. ]\n",
      "Replenish time total:  [ 96.34561379 299.81592256 503.33949364] yr\n",
      "Replenish time blue streamer:  [148.00920379 460.58677959 773.24617864] yr\n",
      "Replenish time red streamer:  [ 276.01716383  858.93210247 1441.99963044] yr\n",
      "Replenish time for viscous accretion total (T=100K):  [22759.10793146  2275.91079315] yr for alpha  [0.1 1. ]\n",
      "Replenish time for viscous accretion blue streamer (T=100K):  [34963.26725703  3496.3267257 ] yr for alpha  [0.1 1. ]\n",
      "Replenish time for viscous accretion red streamer (T=100K):  [65201.76866852  6520.17686685] yr for alpha  [0.1 1. ]\n"
     ]
    }
   ],
   "source": [
    "# Velocity\n",
    "rc = 500 * u.au\n",
    "vff = np.sqrt(2 * ct.G * Mstar / rc)\n",
    "print('Free fall velocity: ', vff.to(u.km/u.s))\n",
    "\n",
    "# Infall rates\n",
    "length = rc\n",
    "infall_blue = vff * mass_blue / length\n",
    "infall_red = vff * mass_red / length\n",
    "infall_blue = infall_blue.to(u.M_sun/u.yr)\n",
    "infall_red = infall_red.to(u.M_sun/u.yr)\n",
    "inf_visc_blue = (mass_blue[0]/tvis_centrifugal).to(u.M_sun/u.yr)\n",
    "inf_visc_red = (mass_red[0]/tvis_centrifugal).to(u.M_sun/u.yr)\n",
    "print('Infall rate blue streamer: ', infall_blue)\n",
    "print('Infall rate red streamer: ', infall_red)\n",
    "print('Infall rate for viscous accretion blue streamer (T=100K): ', inf_visc_blue, 'for alpha ', alpha)\n",
    "print('Infall rate for viscous accretion red streamer (T=100K): ', inf_visc_red, 'for alpha ', alpha)\n",
    "\n",
    "# To replenish the central region\n",
    "trep = Mcenter / (infall_red + infall_blue)\n",
    "trep_blue = Mcenter / infall_blue\n",
    "trep_red = Mcenter / infall_red\n",
    "trep_visc = Mcenter / (inf_visc_blue + inf_visc_red)\n",
    "trep_visc_blue = Mcenter / inf_visc_blue\n",
    "trep_visc_red = Mcenter / inf_visc_red\n",
    "print('Replenish time total: ', trep)\n",
    "print('Replenish time blue streamer: ', trep_blue)\n",
    "print('Replenish time red streamer: ', trep_red)\n",
    "print('Replenish time for viscous accretion total (T=100K): ', trep_visc, 'for alpha ', alpha)\n",
    "print('Replenish time for viscous accretion blue streamer (T=100K): ', trep_visc_blue, 'for alpha ', alpha)\n",
    "print('Replenish time for viscous accretion red streamer (T=100K): ', trep_visc_red, 'for alpha ', alpha)"
   ]
  },
  {
   "cell_type": "markdown",
   "id": "e4831e44-8523-4876-b8f8-4ccd23dab24a",
   "metadata": {},
   "source": [
    "Streamer viscous times:"
   ]
  },
  {
   "cell_type": "code",
   "execution_count": 6,
   "id": "a07d2717-955e-4f5e-98cf-5e5270ba5c32",
   "metadata": {},
   "outputs": [
    {
     "name": "stdout",
     "output_type": "stream",
     "text": [
      "Streamer viscous accretion times: [93992.16002864 31330.72000955 18798.43200573] yr for alpha  0.1\n",
      "Viscous infall rate blue streamer:  [6.81260829e-06 6.56767914e-06 6.52010159e-06] solMass / yr\n",
      "Viscous infall rate red streamer:  [3.65313778e-06 3.52179896e-06 3.49628636e-06] solMass / yr\n",
      "Streamer viscous accretion times: [9399.21600286 3133.07200095 1879.84320057] yr for alpha  1.0\n",
      "Viscous infall rate blue streamer:  [6.81260829e-05 6.56767914e-05 6.52010159e-05] solMass / yr\n",
      "Viscous infall rate red streamer:  [3.65313778e-05 3.52179896e-05 3.49628636e-05] solMass / yr\n"
     ]
    }
   ],
   "source": [
    "# Alpha disk parameters\n",
    "vrot = np.sqrt(ct.G * Mstar / rc)\n",
    "mu = 2.33\n",
    "mH = 1.00784 * u.u\n",
    "omega = vrot / rc\n",
    "cs = np.sqrt(ct.k_B * Tstream / (mu * mH))\n",
    "\n",
    "for alp in alpha:\n",
    "    tvis = rc**2 * omega / (3 * cs**2 * alp)\n",
    "    infall_red_vis = mass_red / tvis\n",
    "    infall_blue_vis = mass_blue / tvis\n",
    "    infall_blue_vis = infall_blue_vis.to(u.M_sun/u.yr)\n",
    "    infall_red_vis = infall_red_vis.to(u.M_sun/u.yr)\n",
    "    print('Streamer viscous accretion times:', tvis.to(u.yr), 'for alpha ', alp)\n",
    "    print('Viscous infall rate blue streamer: ', infall_blue_vis)\n",
    "    print('Viscous infall rate red streamer: ', infall_red_vis)"
   ]
  },
  {
   "cell_type": "markdown",
   "id": "a3a89648-4ff7-4e24-ac4e-774fa1880107",
   "metadata": {},
   "source": [
    "## Streamer momentum vs radiation pressure\n",
    "\n",
    "Order of magnitude comparison (Keto & Wood 2006):"
   ]
  },
  {
   "cell_type": "code",
   "execution_count": 7,
   "id": "c71b1ada-a975-45eb-8a67-19e6cb0b5f8b",
   "metadata": {},
   "outputs": [
    {
     "name": "stdout",
     "output_type": "stream",
     "text": [
      "Luminosity: 24888.573182823904 solLum\n",
      "Inpact velocity: 17.124993743270366 km / s\n",
      "Radiation force: 3.1779804862152306e+22 N\n",
      "Inflow force T=100K: 1.736477142156722e+24 N\n"
     ]
    }
   ],
   "source": [
    "# Radiation\n",
    "L = 10**4.396 * u.Lsun\n",
    "force1 = L / ct.c\n",
    "force1 = force1.to(u.N)\n",
    "\n",
    "# Inflow\n",
    "vel_impact = np.sqrt(2 *  ct.G * Mstar / rcenter)\n",
    "force2_100 = infall_blue[0] * vel_impact\n",
    "force2_100 = force2_100.to(u.N)\n",
    "\n",
    "print('Luminosity:', L)\n",
    "print('Inpact velocity:', vel_impact.to(u.km/u.s))\n",
    "print('Radiation force:', force1)\n",
    "print('Inflow force T=100K:', force2_100)\n"
   ]
  },
  {
   "cell_type": "code",
   "execution_count": null,
   "id": "f2886b48-d621-47bb-91a7-1751ef7965c7",
   "metadata": {},
   "outputs": [],
   "source": []
  }
 ],
 "metadata": {
  "kernelspec": {
   "display_name": "Python 3 (ipykernel)",
   "language": "python",
   "name": "python3"
  },
  "language_info": {
   "codemirror_mode": {
    "name": "ipython",
    "version": 3
   },
   "file_extension": ".py",
   "mimetype": "text/x-python",
   "name": "python",
   "nbconvert_exporter": "python",
   "pygments_lexer": "ipython3",
   "version": "3.11.4"
  }
 },
 "nbformat": 4,
 "nbformat_minor": 5
}
