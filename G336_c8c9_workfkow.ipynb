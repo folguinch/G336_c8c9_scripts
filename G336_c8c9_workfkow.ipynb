{
 "cells": [
  {
   "cell_type": "markdown",
   "id": "00b679cc-c14d-49d5-b14c-f297e00dd4f5",
   "metadata": {},
   "source": [
    "# G336 c8 c9 workflow\n",
    "\n",
    "## Prepare data"
   ]
  },
  {
   "cell_type": "markdown",
   "id": "581f370e-22d6-4a33-9c6f-b83cd5cb303c",
   "metadata": {},
   "source": [
    "Rename fields and sources"
   ]
  },
  {
   "cell_type": "code",
   "execution_count": 2,
   "id": "e95a4e2e-0b0e-4399-9995-d98a728dd891",
   "metadata": {},
   "outputs": [],
   "source": [
    "import casatasks as tasks\n",
    "from pathlib import Path"
   ]
  },
  {
   "cell_type": "code",
   "execution_count": 3,
   "id": "d9fb9810-2a28-401a-b9dd-49d005d8a06d",
   "metadata": {},
   "outputs": [],
   "source": [
    "data = Path('../uvdata')\n",
    "visc8 = data / 'G336.018-0.827.c8.ms'\n",
    "visc9 = data / 'G336.018-0.827.c9.ms'\n",
    "field = 'G336.018-0.827'\n",
    "\n",
    "_ = tasks.listobs(f'{visc8}')\n",
    "_ = tasks.listobs(f'{visc8}')\n"
   ]
  },
  {
   "cell_type": "code",
   "execution_count": 3,
   "id": "b3df6b7b-73b5-4ceb-9ce5-e080a9dd60bb",
   "metadata": {
    "tags": []
   },
   "outputs": [],
   "source": [
    "tasks.vishead(f'{visc8}', mode='put', hdkey='field', hdindex='0', hdvalue=field)\n",
    "tasks.vishead(f'{visc9}', mode='put', hdkey='field', hdindex='0', hdvalue=field)\n",
    "\n",
    "for i in range(4):\n",
    "    tasks.vishead(f'{visc8}', mode='put', hdkey='source_name', hdindex=f'{i}', hdvalue=field)\n",
    "    tasks.vishead(f'{visc9}', mode='put', hdkey='source_name', hdindex=f'{i}', hdvalue=field)\n",
    "    \n",
    "_ = tasks.listobs(f'{visc9}')\n",
    "_ = tasks.listobs(f'{visc8}')"
   ]
  },
  {
   "cell_type": "markdown",
   "id": "e880c9f4-67c3-4421-a2ab-ba3b7b1a5bd6",
   "metadata": {},
   "source": [
    "Change phase centers"
   ]
  },
  {
   "cell_type": "code",
   "execution_count": 4,
   "id": "b51f7e55-3be7-409d-83bb-42b84e1b99c3",
   "metadata": {
    "tags": []
   },
   "outputs": [
    {
     "name": "stdout",
     "output_type": "stream",
     "text": [
      "{'m0': {'unit': 'rad', 'value': -1.9410090954645292}, 'm1': {'unit': 'rad', 'value': -0.8513663731352502}, 'refer': 'ICRS', 'type': 'direction'}\n"
     ]
    },
    {
     "data": {
      "text/plain": [
       "True"
      ]
     },
     "execution_count": 4,
     "metadata": {},
     "output_type": "execute_result"
    }
   ],
   "source": [
    "from casatools import msmetadata\n",
    "\n",
    "metadata = msmetadata()\n",
    "metadata.open(f'{visc9}')\n",
    "phasecenter = metadata.phasecenter()\n",
    "print(phasecenter)\n",
    "metadata.close()"
   ]
  },
  {
   "cell_type": "code",
   "execution_count": 5,
   "id": "ebe58a41-f904-4542-b5b4-39e3602eeeaf",
   "metadata": {
    "tags": []
   },
   "outputs": [
    {
     "name": "stdout",
     "output_type": "stream",
     "text": [
      "{'m0': {'unit': 'rad', 'value': -1.9410023323151402}, 'm1': {'unit': 'rad', 'value': -0.8513723799767234}, 'refer': 'ICRS', 'type': 'direction'}\n"
     ]
    },
    {
     "data": {
      "text/plain": [
       "True"
      ]
     },
     "execution_count": 5,
     "metadata": {},
     "output_type": "execute_result"
    }
   ],
   "source": [
    "metadata.open(f'{visc8}')\n",
    "print(metadata.phasecenter())\n",
    "metadata.close()"
   ]
  },
  {
   "cell_type": "code",
   "execution_count": 6,
   "id": "bba6b135-2d27-4946-b36a-304eb178a032",
   "metadata": {
    "tags": []
   },
   "outputs": [
    {
     "name": "stdout",
     "output_type": "stream",
     "text": [
      "<SkyCoord (ICRS): (ra, dec) in deg\n",
      "    (248.78837083, -48.7797)>\n"
     ]
    }
   ],
   "source": [
    "from astropy.coordinates import SkyCoord\n",
    "\n",
    "phasecenter_coord = SkyCoord(phasecenter['m0']['value'], phasecenter['m1']['value'], unit=(phasecenter['m0']['unit'], phasecenter['m1']['unit']), frame=phasecenter['refer'].lower())\n",
    "print(phasecenter_coord)"
   ]
  },
  {
   "cell_type": "code",
   "execution_count": 7,
   "id": "b0b2f22e-6b0c-43ea-b8ec-4890bdbc25b1",
   "metadata": {
    "tags": []
   },
   "outputs": [
    {
     "name": "stdout",
     "output_type": "stream",
     "text": [
      "ICRS 16h35m09.20900001s -48d46m46.92000004s\n"
     ]
    }
   ],
   "source": [
    "new_phasecenter = phasecenter_coord.to_string('hmsdms')\n",
    "new_phasecenter = 'ICRS ' + new_phasecenter\n",
    "print(new_phasecenter)"
   ]
  },
  {
   "cell_type": "code",
   "execution_count": 8,
   "id": "5a2c9b08-e9b6-4116-a0b8-c8ef2b2a06a7",
   "metadata": {
    "tags": []
   },
   "outputs": [],
   "source": [
    "new_phasecenter = 'ICRS 16h35m09.2090s -48d46m46.920s'\n",
    "outputvis = visc8.with_suffix('.shifted.ms')\n",
    "tasks.phaseshift(f'{visc8}', outputvis=f'{outputvis}', phasecenter=new_phasecenter)\n",
    "\n",
    "_ = tasks.listobs(f'{outputvis}')"
   ]
  },
  {
   "cell_type": "code",
   "execution_count": 9,
   "id": "00b724c3-14a0-4e83-972b-cab545cf5850",
   "metadata": {},
   "outputs": [
    {
     "name": "stderr",
     "output_type": "stream",
     "text": [
      "2024-02-02 06:43:26\tWARN\tfixvis::::casa\t**ALERT:** Deprecated in CASA 5.9/6.3. Please use task **phaseshift** instead.\n"
     ]
    }
   ],
   "source": [
    "new_phasecenter = 'ICRS 16h35m09.2090s -48d46m46.920s'\n",
    "outputvis = visc8.with_suffix('.shifted.fixvis.ms')\n",
    "tasks.fixvis(vis=f'{visc8}', outputvis=f'{outputvis}', phasecenter=new_phasecenter)\n",
    "\n",
    "_ = tasks.listobs(f'{outputvis}')"
   ]
  },
  {
   "cell_type": "markdown",
   "id": "fbed9198-7e87-4ff0-9b0b-bf5c482e5b00",
   "metadata": {},
   "source": [
    "Now do selfcal"
   ]
  },
  {
   "cell_type": "markdown",
   "id": "9aa2e897-030d-4f76-a30a-5e069805cdb1",
   "metadata": {},
   "source": [
    "## After selfcal\n",
    "\n",
    "Apply selfcal table and split corrected."
   ]
  },
  {
   "cell_type": "code",
   "execution_count": 4,
   "id": "db904c6f-15d2-42a0-87ec-d439e291cd10",
   "metadata": {
    "tags": []
   },
   "outputs": [],
   "source": [
    "visc8_fix = visc8.with_suffix('.shifted.fixvis.ms')\n",
    "concatvis = data / 'G336.018-0.827.c8c9.ms'\n",
    "tasks.concat(vis=[f'{visc9}', f'{visc8_fix}'], concatvis=f'{concatvis}')\n",
    "_ = tasks.listobs(f'{concatvis}')"
   ]
  },
  {
   "cell_type": "code",
   "execution_count": 5,
   "id": "8abe8c80-2746-4c82-aad2-b583c2b93cca",
   "metadata": {
    "tags": []
   },
   "outputs": [
    {
     "ename": "NameError",
     "evalue": "name 'concat_selfcal' is not defined",
     "output_type": "error",
     "traceback": [
      "\u001b[0;31m---------------------------------------------------------------------------\u001b[0m",
      "\u001b[0;31mNameError\u001b[0m                                 Traceback (most recent call last)",
      "Cell \u001b[0;32mIn[5], line 7\u001b[0m\n\u001b[1;32m      2\u001b[0m tasks\u001b[38;5;241m.\u001b[39mapplycal(vis\u001b[38;5;241m=\u001b[39m\u001b[38;5;124mf\u001b[39m\u001b[38;5;124m'\u001b[39m\u001b[38;5;132;01m{\u001b[39;00mconcatvis\u001b[38;5;132;01m}\u001b[39;00m\u001b[38;5;124m'\u001b[39m,\n\u001b[1;32m      3\u001b[0m                gaintable\u001b[38;5;241m=\u001b[39m[caltable],\n\u001b[1;32m      4\u001b[0m                spwmap\u001b[38;5;241m=\u001b[39m[\u001b[38;5;124m'\u001b[39m\u001b[38;5;124m0\u001b[39m\u001b[38;5;124m'\u001b[39m,\u001b[38;5;124m'\u001b[39m\u001b[38;5;124m0\u001b[39m\u001b[38;5;124m'\u001b[39m,\u001b[38;5;124m'\u001b[39m\u001b[38;5;124m0\u001b[39m\u001b[38;5;124m'\u001b[39m,\u001b[38;5;124m'\u001b[39m\u001b[38;5;124m0\u001b[39m\u001b[38;5;124m'\u001b[39m,\u001b[38;5;124m'\u001b[39m\u001b[38;5;124m4\u001b[39m\u001b[38;5;124m'\u001b[39m,\u001b[38;5;124m'\u001b[39m\u001b[38;5;124m4\u001b[39m\u001b[38;5;124m'\u001b[39m,\u001b[38;5;124m'\u001b[39m\u001b[38;5;124m4\u001b[39m\u001b[38;5;124m'\u001b[39m,\u001b[38;5;124m'\u001b[39m\u001b[38;5;124m4\u001b[39m\u001b[38;5;124m'\u001b[39m],\n\u001b[1;32m      5\u001b[0m                interp\u001b[38;5;241m=\u001b[39m\u001b[38;5;124m'\u001b[39m\u001b[38;5;124mlinear\u001b[39m\u001b[38;5;124m'\u001b[39m)\n\u001b[1;32m      6\u001b[0m visc8c9 \u001b[38;5;241m=\u001b[39m concatvis\u001b[38;5;241m.\u001b[39mwith_suffix(\u001b[38;5;124m'\u001b[39m\u001b[38;5;124m.selfcal.ms\u001b[39m\u001b[38;5;124m'\u001b[39m)\n\u001b[0;32m----> 7\u001b[0m tasks\u001b[38;5;241m.\u001b[39msplit(\u001b[38;5;124mf\u001b[39m\u001b[38;5;124m'\u001b[39m\u001b[38;5;132;01m{\u001b[39;00mconcatvis\u001b[38;5;132;01m}\u001b[39;00m\u001b[38;5;124m'\u001b[39m, outputvis\u001b[38;5;241m=\u001b[39m\u001b[38;5;124mf\u001b[39m\u001b[38;5;124m'\u001b[39m\u001b[38;5;132;01m{\u001b[39;00mconcat_selfcal\u001b[38;5;132;01m}\u001b[39;00m\u001b[38;5;124m'\u001b[39m, datacolumn\u001b[38;5;241m=\u001b[39m\u001b[38;5;124m'\u001b[39m\u001b[38;5;124mcorrected\u001b[39m\u001b[38;5;124m'\u001b[39m)\n",
      "\u001b[0;31mNameError\u001b[0m: name 'concat_selfcal' is not defined"
     ]
    }
   ],
   "source": [
    "caltable = f'../manual_selfcal/{field}.3.phase.cal'\n",
    "tasks.applycal(vis=f'{concatvis}',\n",
    "               gaintable=[caltable],\n",
    "               spwmap=['0','0','0','0','4','4','4','4'],\n",
    "               interp='linear')\n",
    "visc8c9 = concatvis.with_suffix('.selfcal.ms')\n"
   ]
  },
  {
   "cell_type": "code",
   "execution_count": 6,
   "id": "2ee89acb-3159-4415-bbff-7717cf0550bf",
   "metadata": {
    "tags": []
   },
   "outputs": [],
   "source": [
    "tasks.split(f'{concatvis}', outputvis=f'{visc8c9}', datacolumn='corrected')"
   ]
  },
  {
   "cell_type": "markdown",
   "id": "442ce7b2-1ad9-4549-9541-d55e2fbdbc36",
   "metadata": {},
   "source": [
    "Get SPW information, cvel and concat result"
   ]
  },
  {
   "cell_type": "code",
   "execution_count": 7,
   "id": "74893c58-778e-4698-9cbc-2723a1c1c63d",
   "metadata": {
    "tags": []
   },
   "outputs": [
    {
     "name": "stdout",
     "output_type": "stream",
     "text": [
      "8\n"
     ]
    }
   ],
   "source": [
    "from casatools import msmetadata\n",
    "metadata = msmetadata()\n",
    "metadata.open(f'{visc8c9}')\n",
    "\n",
    "nspw = metadata.nspw()\n",
    "print(nspw)"
   ]
  },
  {
   "cell_type": "code",
   "execution_count": 11,
   "id": "59cee668-62ed-437b-b0e5-14fe10014cf9",
   "metadata": {
    "tags": []
   },
   "outputs": [
    {
     "name": "stdout",
     "output_type": "stream",
     "text": [
      "SPW 0: 233.55088282351068 -- 235.42539454226068 (dnu=[488.28125 488.28125 488.28125 ... 488.28125 488.28125 488.28125])\n",
      "SPW 1: 231.0510092767289 -- 232.9255209954789 (dnu=[488.28125 488.28125 488.28125 ... 488.28125 488.28125 488.28125])\n",
      "SPW 2: 218.72623924988272 -- 216.85172753113272 (dnu=[-488.28125 -488.28125 -488.28125 ... -488.28125 -488.28125 -488.28125])\n",
      "SPW 3: 220.92612797106665 -- 219.05161625231665 (dnu=[-488.28125 -488.28125 -488.28125 ... -488.28125 -488.28125 -488.28125])\n",
      "SPW 4: 218.52795984847307 -- 216.65344812972307 (dnu=[-488.28125 -488.28125 -488.28125 ... -488.28125 -488.28125 -488.28125])\n",
      "SPW 5: 221.34045984847307 -- 219.46594812972307 (dnu=[-488.28125 -488.28125 -488.28125 ... -488.28125 -488.28125 -488.28125])\n",
      "SPW 6: 230.98644812972307 -- 232.86095984847307 (dnu=[488.28125 488.28125 488.28125 ... 488.28125 488.28125 488.28125])\n",
      "SPW 7: 233.54894812972307 -- 235.42345984847307 (dnu=[488.28125 488.28125 488.28125 ... 488.28125 488.28125 488.28125])\n"
     ]
    }
   ],
   "source": [
    "for i in range(nspw):\n",
    "    freqs = metadata.chanfreqs(spw=i, unit='GHz')\n",
    "    dnu = metadata.chanwidths(spw=i, unit='kHz')\n",
    "    print(f'SPW {i}: {freqs[0]} -- {freqs[-1]} (dnu={dnu})')"
   ]
  },
  {
   "cell_type": "code",
   "execution_count": 15,
   "id": "665c1c68-3457-40bf-b775-5d5018b2697f",
   "metadata": {
    "tags": []
   },
   "outputs": [
    {
     "name": "stdout",
     "output_type": "stream",
     "text": [
      "SPW 0: 233.55088282351068 -- 235.42345984847307 (dnu=488.28125, nchan=3835)\n",
      "SPW 1: 231.0510092767289 -- 232.86095984847307 (dnu=488.28125, nchan=3706)\n",
      "SPW 2: 216.85172753113272 -- 218.52795984847307 (dnu=-488.28125, nchan=3432)\n",
      "SPW 3: 219.46594812972307 -- 220.92612797106665 (dnu=-488.28125, nchan=2990)\n"
     ]
    }
   ],
   "source": [
    "pairings = [(0, 7), (1, 6), (2, 4), (3, 5)]\n",
    "for i, pair in enumerate(pairings):\n",
    "    freq1 = metadata.chanfreqs(spw=pair[0], unit='GHz')\n",
    "    freq2 = metadata.chanfreqs(spw=pair[1], unit='GHz')\n",
    "    freq_low = max(min(freq1), min(freq2))\n",
    "    freq_high = min(max(freq1), max(freq2))\n",
    "    dnu = metadata.chanwidths(spw=i, unit='kHz')[0]\n",
    "    nchan = abs(freq_high*1E9 - freq_low*1E9) / abs(dnu*1E3)\n",
    "    if dnu > 0:\n",
    "        start = freq_low\n",
    "    else:\n",
    "        start = freq_high\n",
    "    print(f'SPW {i}: {freq_low} -- {freq_high} (dnu={dnu}, nchan={int(nchan)})')\n",
    "    outputvis = visc8c9.with_suffix(f'.spw{i}.cvel.ms')\n",
    "    tasks.cvel2(f'{visc8c9}', outputvis=f'{outputvis}', spw=','.join(map(str, pair)), mode='frequency', start=f'{start}GHz', width=f'{dnu}kHz', nchan=int(nchan))"
   ]
  },
  {
   "cell_type": "code",
   "execution_count": 16,
   "id": "5289fdf0-886f-469f-9b3f-f126ca3b8470",
   "metadata": {
    "tags": []
   },
   "outputs": [
    {
     "name": "stdout",
     "output_type": "stream",
     "text": [
      "[PosixPath('../uvdata/G336.018-0.827.c8c9.selfcal.spw0.cvel.ms'), PosixPath('../uvdata/G336.018-0.827.c8c9.selfcal.spw1.cvel.ms'), PosixPath('../uvdata/G336.018-0.827.c8c9.selfcal.spw2.cvel.ms'), PosixPath('../uvdata/G336.018-0.827.c8c9.selfcal.spw3.cvel.ms')]\n"
     ]
    }
   ],
   "source": [
    "vis = [visc8c9.with_suffix(f'.spw{i}.cvel.ms') for i in range(len(pairings))]\n",
    "concatvis = visc8c9.with_suffix(f'.cvel.ms')\n",
    "print(vis)\n",
    "tasks.concat(vis=list(map(str, vis)), concatvis=f'{concatvis}')"
   ]
  },
  {
   "cell_type": "code",
   "execution_count": null,
   "id": "be7d73fe-77df-450f-925c-13af554266f1",
   "metadata": {},
   "outputs": [],
   "source": []
  }
 ],
 "metadata": {
  "kernelspec": {
   "display_name": "Python 3 (ipykernel)",
   "language": "python",
   "name": "python3"
  },
  "language_info": {
   "codemirror_mode": {
    "name": "ipython",
    "version": 3
   },
   "file_extension": ".py",
   "mimetype": "text/x-python",
   "name": "python",
   "nbconvert_exporter": "python",
   "pygments_lexer": "ipython3",
   "version": "3.8.16"
  }
 },
 "nbformat": 4,
 "nbformat_minor": 5
}
